{
 "cells": [
  {
   "cell_type": "code",
   "execution_count": 3,
   "metadata": {},
   "outputs": [
    {
     "name": "stdout",
     "output_type": "stream",
     "text": [
      "--2024-09-05 12:11:06--  https://zhanggroup.org/BioLiP/download/BioLiP.txt.gz\n",
      "Resolving zhanggroup.org (zhanggroup.org)... 141.213.137.249\n",
      "Connecting to zhanggroup.org (zhanggroup.org)|141.213.137.249|:443... connected.\n",
      "HTTP request sent, awaiting response... 200 OK\n",
      "Length: 71064745 (68M) [application/x-gzip]\n",
      "Saving to: ‘BioLiP.txt.gz.1’\n",
      "\n",
      "BioLiP.txt.gz.1     100%[===================>]  67.77M  43.4MB/s    in 1.6s    \n",
      "\n",
      "2024-09-05 12:11:08 (43.4 MB/s) - ‘BioLiP.txt.gz.1’ saved [71064745/71064745]\n",
      "\n"
     ]
    }
   ],
   "source": [
    "! wget https://zhanggroup.org/BioLiP/download/BioLiP.txt.gz"
   ]
  },
  {
   "cell_type": "code",
   "execution_count": 4,
   "metadata": {},
   "outputs": [
    {
     "name": "stdout",
     "output_type": "stream",
     "text": [
      "gzip: BioLiP.txt already exists; do you wish to overwrite (y or n)? "
     ]
    }
   ],
   "source": [
    "! gunzip BioLiP.txt.gz"
   ]
  },
  {
   "cell_type": "code",
   "execution_count": 1,
   "metadata": {},
   "outputs": [
    {
     "name": "stdout",
     "output_type": "stream",
     "text": [
      "BioLiP2: 143054\n",
      "BioLiP2 with binding: 24635\n",
      "BioLiP2 with binding & non-covalent: 23723\n",
      "BioLiP2 with binding & non-covalent & small molecules: 22272\n"
     ]
    }
   ],
   "source": [
    "import pandas as pd\n",
    "from tqdm import tqdm\n",
    "\n",
    "columns = [\n",
    "    'PDBID',\n",
    "    'Receptor chain',\n",
    "    'Resolution',\n",
    "    'Binding site',\n",
    "    'Ligand CCD',\n",
    "    'Ligand chain',\n",
    "    'Ligand serial number',\n",
    "    'Binding site residues',\n",
    "    'Binding site residues renumbered',\n",
    "    'Catalytic site residues',\n",
    "    'Catalytic site residues renumbered',\n",
    "    'EC number',\n",
    "    'GO terms',\n",
    "    'Binding affinity (manual)',\n",
    "    'Binding affinity (Binding MOAD)',\n",
    "    'Binding affinity (PDBbind-CN)',\n",
    "    'Binding affinity (Binding DB)',\n",
    "    'UniProt ID',\n",
    "    'PubMed ID',\n",
    "    'Ligand residue sequence number',\n",
    "    'Receptor sequence'\n",
    "]\n",
    "raw_df = pd.read_csv('BioLiP.txt', sep='\\t', names=columns, low_memory=False, keep_default_na=False, na_values=[None, \"\"])\n",
    "print(f\"BioLiP2: {raw_df['PDBID'].unique().shape[0]}\")\n",
    "\n",
    "# Find entries with binding data\n",
    "binding_df = raw_df.dropna(\n",
    "    subset=[\n",
    "        'Binding affinity (manual)', 'Binding affinity (Binding MOAD)', 'Binding affinity (PDBbind-CN)', 'Binding affinity (Binding DB)'\n",
    "    ],\n",
    "    how='all'\n",
    ")\n",
    "print(f'BioLiP2 with binding: {binding_df[\"PDBID\"].unique().shape[0]}')\n",
    "\n",
    "# Exclude covalent binders\n",
    "cov_df = pd.read_csv('CovBinderInPDB_2022Q4_AllRecords.csv')\n",
    "cov = [c.lower() for c in cov_df['pdb_id'].unique()]\n",
    "\n",
    "binding_df = binding_df.query('PDBID not in @cov')\n",
    "print(f'BioLiP2 with binding & non-covalent: {binding_df[\"PDBID\"].unique().shape[0]}')\n",
    "\n",
    "# get rid of ions\n",
    "ions = [\n",
    "    'MN', 'MG', 'ZN', 'NA', 'CO', 'CA', 'CU', 'NI', 'FE', \n",
    "    'HG', 'CE', 'AG', 'CD', 'CL', 'BR', 'F', 'XE', 'KR', 'AR',\n",
    "    'K', 'LA', 'BA', 'SB', 'TL', 'CS', 'SR', 'AU', 'YB', 'GA', 'CR',\n",
    "    'PD', 'MO', 'SE', 'LU', 'SM', 'PB', 'EU', 'PT', 'TB', 'RH', 'LI',\n",
    "    'RB', 'RU', 'DY', 'RE', 'PR', 'OS', 'V', 'IR', 'ND', 'AL'\n",
    "    'O', 'OH'\n",
    "]\n",
    "binding_df = binding_df[[ccd not in ions for ccd in binding_df['Ligand CCD']]]\n",
    "\n",
    "# Exclude DNA/RNA/Peptide binders\n",
    "non_sm = ['rna', 'dna', 'peptide']\n",
    "non_sm_mask = [ccd not in non_sm for ccd in binding_df['Ligand CCD']]\n",
    "binding_df = binding_df[non_sm_mask]\n",
    "\n",
    "# Exclude polymers\n",
    "polymers = []\n",
    "for pdb_id, subdf in binding_df.groupby('PDBID'):\n",
    "    ligands = subdf['Ligand CCD'].unique()\n",
    "    if len(ligands) > 1:\n",
    "        polymers.append(pdb_id)\n",
    "binding_df = binding_df.query('PDBID not in @polymers')\n",
    "\n",
    "print(f'BioLiP2 with binding & non-covalent & small molecules: {binding_df[\"PDBID\"].unique().shape[0]}')\n",
    "\n",
    "args = []\n",
    "for pdb_id, subdf in binding_df.groupby('PDBID'):\n",
    "    args.append((pdb_id, subdf['Ligand CCD'].unique()[0]))\n",
    "\n",
    "metadata = pd.DataFrame(args, columns=['PDBID', 'Ligand CCD'])\n",
    "metadata.to_csv('./BioLiP_bind_sm.csv', index=None)"
   ]
  },
  {
   "cell_type": "code",
   "execution_count": null,
   "metadata": {},
   "outputs": [
    {
     "name": "stderr",
     "output_type": "stream",
     "text": [
      "  0%|          | 0/39426 [00:00<?, ?it/s]"
     ]
    },
    {
     "name": "stderr",
     "output_type": "stream",
     "text": [
      "  3%|▎         | 1318/39426 [00:54<26:00, 24.41it/s]"
     ]
    }
   ],
   "source": [
    "import numpy as np\n",
    "import sys\n",
    "sys.path.insert(0, '../utils')\n",
    "from rcsb import get_smiles_from_rcsb\n",
    "from tqdm import tqdm\n",
    "\n",
    "\n",
    "for ccd in tqdm(raw_df['Ligand CCD'].unique()):\n",
    "    if len(ccd) <= 2:\n",
    "        smi = get_smiles_from_rcsb(ccd)"
   ]
  },
  {
   "cell_type": "code",
   "execution_count": null,
   "metadata": {},
   "outputs": [],
   "source": []
  }
 ],
 "metadata": {
  "kernelspec": {
   "display_name": "Python 3",
   "language": "python",
   "name": "python3"
  },
  "language_info": {
   "codemirror_mode": {
    "name": "ipython",
    "version": 3
   },
   "file_extension": ".py",
   "mimetype": "text/x-python",
   "name": "python",
   "nbconvert_exporter": "python",
   "pygments_lexer": "ipython3",
   "version": "3.10.14"
  }
 },
 "nbformat": 4,
 "nbformat_minor": 2
}
