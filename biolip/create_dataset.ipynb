{
 "cells": [
  {
   "cell_type": "code",
   "execution_count": 3,
   "metadata": {},
   "outputs": [
    {
     "name": "stdout",
     "output_type": "stream",
     "text": [
      "--2024-09-05 12:11:06--  https://zhanggroup.org/BioLiP/download/BioLiP.txt.gz\n",
      "Resolving zhanggroup.org (zhanggroup.org)... 141.213.137.249\n",
      "Connecting to zhanggroup.org (zhanggroup.org)|141.213.137.249|:443... connected.\n",
      "HTTP request sent, awaiting response... 200 OK\n",
      "Length: 71064745 (68M) [application/x-gzip]\n",
      "Saving to: ‘BioLiP.txt.gz.1’\n",
      "\n",
      "BioLiP.txt.gz.1     100%[===================>]  67.77M  43.4MB/s    in 1.6s    \n",
      "\n",
      "2024-09-05 12:11:08 (43.4 MB/s) - ‘BioLiP.txt.gz.1’ saved [71064745/71064745]\n",
      "\n"
     ]
    }
   ],
   "source": [
    "! wget https://zhanggroup.org/BioLiP/download/BioLiP.txt.gz"
   ]
  },
  {
   "cell_type": "code",
   "execution_count": 4,
   "metadata": {},
   "outputs": [
    {
     "name": "stdout",
     "output_type": "stream",
     "text": [
      "gzip: BioLiP.txt already exists; do you wish to overwrite (y or n)? "
     ]
    }
   ],
   "source": [
    "! gunzip BioLiP.txt.gz"
   ]
  },
  {
   "cell_type": "code",
   "execution_count": 15,
   "metadata": {},
   "outputs": [
    {
     "name": "stdout",
     "output_type": "stream",
     "text": [
      "PDBBind v2020: 19443\n",
      "BioLiP2: 143054\n",
      "BioLiP2 with small molecule: 128638\n",
      "BioLiP2 with binding: 23606\n",
      "Total PDBIDs: 26542\n"
     ]
    }
   ],
   "source": [
    "import pandas as pd\n",
    "from tqdm import tqdm\n",
    "import re\n",
    "\n",
    "# Compare with PDBBind\n",
    "def parse_pdbbind_metadata(index='../raw/index/INDEX_general_PL.2020'):\n",
    "    data = []\n",
    "    with open(index) as f:\n",
    "        for line in f:\n",
    "            if line.startswith('#'):\n",
    "                continue\n",
    "            if line:\n",
    "                content = line.strip().split()\n",
    "                if not content[6].endswith(')'):\n",
    "                    ligand = content[6][1:]\n",
    "                else:\n",
    "                    ligand = content[6][1:-1]\n",
    "                    \n",
    "                data.append({\n",
    "                    \"PDBID\": content[0],\n",
    "                    \"Resolution\": content[1],\n",
    "                    \"Year\": content[2],\n",
    "                    \"Binding Affinity\": content[3],\n",
    "                    \"Ligand\": ligand,\n",
    "                    \"Note\": ' '.join(content[7:])\n",
    "                })\n",
    "    data = pd.DataFrame(data)\n",
    "    return data\n",
    "\n",
    "pdbbind_data = parse_pdbbind_metadata('../raw_data_pdbbind/index/INDEX_general_PL.2020')\n",
    "pdbbind_ids = pdbbind_data['PDBID'].unique()\n",
    "print(\"PDBBind v2020:\", len(pdbbind_ids))\n",
    "\n",
    "\n",
    "columns = [\n",
    "    'PDBID',\n",
    "    'Receptor chain',\n",
    "    'Resolution',\n",
    "    'Binding site',\n",
    "    'Ligand CCD',\n",
    "    'Ligand chain',\n",
    "    'Ligand serial number',\n",
    "    'Binding site residues',\n",
    "    'Binding site residues renumbered',\n",
    "    'Catalytic site residues',\n",
    "    'Catalytic site residues renumbered',\n",
    "    'EC number',\n",
    "    'GO terms',\n",
    "    'Binding affinity (manual)',\n",
    "    'Binding affinity (Binding MOAD)',\n",
    "    'Binding affinity (PDBbind-CN)',\n",
    "    'Binding affinity (Binding DB)',\n",
    "    'UniProt ID',\n",
    "    'PubMed ID',\n",
    "    'Ligand residue sequence number',\n",
    "    'Receptor sequence'\n",
    "]\n",
    "raw_df = pd.read_csv('BioLiP.txt', sep='\\t', names=columns, low_memory=False, keep_default_na=False, na_values=[None, \"\"])\n",
    "print(f\"BioLiP2: {raw_df['PDBID'].unique().shape[0]}\")\n",
    "\n",
    "biolip_sm = raw_df[~raw_df['Ligand CCD'].isin(['peptide', 'dna', 'rna'])]\n",
    "biolip_poly = raw_df[raw_df['Ligand CCD'].isin(['peptide', 'dna', 'rna'])]\n",
    "print(f\"BioLiP2 with small molecule: {biolip_sm['PDBID'].unique().shape[0]}\")\n",
    "\n",
    "# Find entries with binding data\n",
    "binding_df = biolip_sm.dropna(\n",
    "    subset=[\n",
    "        'Binding affinity (manual)', 'Binding affinity (Binding MOAD)', 'Binding affinity (PDBbind-CN)', 'Binding affinity (Binding DB)'\n",
    "    ],\n",
    "    how='all'\n",
    ")\n",
    "biolip_ids = binding_df[\"PDBID\"].unique()\n",
    "print(f\"BioLiP2 with binding:\", len(biolip_ids))\n",
    "\n",
    "all_ids = set(biolip_ids).union(pdbbind_ids)\n",
    "print('Total PDBIDs:', len(all_ids))\n",
    "\n",
    "\n",
    "# # Exclude covalent binders\n",
    "# cov_df = pd.read_csv('CovBinderInPDB_2022Q4_AllRecords.csv')\n",
    "# cov = [c.lower() for c in cov_df['pdb_id'].unique()]\n",
    "\n",
    "# binding_df = binding_df.query('PDBID not in @cov')\n",
    "# print(f'BioLiP2 with binding & non-covalent: {binding_df[\"PDBID\"].unique().shape[0]}')\n",
    "\n",
    "# binding_df_noncov_all = set(binding_df[\"PDBID\"].unique())\n",
    "\n",
    "# # get rid of ions\n",
    "# ions = [\n",
    "#     'MN', 'MG', 'ZN', 'NA', 'CO', 'CA', 'CU', 'NI', 'FE', \n",
    "#     'HG', 'CE', 'AG', 'CD', 'CL', 'BR', 'F', 'XE', 'KR', 'AR',\n",
    "#     'K', 'LA', 'BA', 'SB', 'TL', 'CS', 'SR', 'AU', 'YB', 'GA', 'CR',\n",
    "#     'PD', 'MO', 'SE', 'LU', 'SM', 'PB', 'EU', 'PT', 'TB', 'RH', 'LI',\n",
    "#     'RB', 'RU', 'DY', 'RE', 'PR', 'OS', 'V', 'IR', 'ND', 'AL'\n",
    "#     'O', 'OH'\n",
    "# ]\n",
    "# binding_df = binding_df[[ccd not in ions for ccd in binding_df['Ligand CCD']]]\n",
    "\n",
    "# # Exclude DNA/RNA/Peptide binders\n",
    "# non_sm = ['rna', 'dna', 'peptide']\n",
    "# non_sm_mask = [ccd not in non_sm for ccd in binding_df['Ligand CCD']]\n",
    "# binding_df = binding_df[non_sm_mask]\n",
    "\n",
    "# # Exclude polymers\n",
    "# polymers = []\n",
    "# for pdb_id, subdf in binding_df.groupby('PDBID'):\n",
    "#     ligands = subdf['Ligand CCD'].unique()\n",
    "#     if len(ligands) > 1:\n",
    "#         polymers.append(pdb_id)\n",
    "# binding_df = binding_df.query('PDBID not in @polymers')\n",
    "\n",
    "# print(f'BioLiP2 with binding & non-covalent & small molecules: {binding_df[\"PDBID\"].unique().shape[0]}')\n",
    "\n",
    "# args = []\n",
    "# for pdb_id, subdf in binding_df.groupby('PDBID'):\n",
    "#     args.append((pdb_id, subdf['Ligand CCD'].unique()[0]))\n",
    "\n",
    "# metadata = pd.DataFrame(args, columns=['PDBID', 'Ligand CCD'])\n",
    "# metadata.to_csv('./BioLiP_bind_sm.csv', index=None)"
   ]
  },
  {
   "cell_type": "code",
   "execution_count": 20,
   "metadata": {},
   "outputs": [
    {
     "name": "stdout",
     "output_type": "stream",
     "text": [
      "3546\n"
     ]
    }
   ],
   "source": [
    "ions = [\n",
    "    'MN', 'MG', 'ZN', 'NA', 'CO', 'CA', 'CU', 'NI', 'FE', \n",
    "    'HG', 'CE', 'AG', 'CD', 'CL', 'BR', 'F', 'XE', 'KR', 'AR',\n",
    "    'K', 'LA', 'BA', 'SB', 'TL', 'CS', 'SR', 'AU', 'YB', 'GA', 'CR',\n",
    "    'PD', 'MO', 'SE', 'LU', 'SM', 'PB', 'EU', 'PT', 'TB', 'RH', 'LI',\n",
    "    'RB', 'RU', 'DY', 'RE', 'PR', 'OS', 'V', 'IR', 'ND', 'AL'\n",
    "    'O', 'OH'\n",
    "]\n",
    "polymers = ['peptide', 'dna', 'rna']\n",
    "\n",
    "select_pdbids = []\n",
    "select_df = raw_df.query('(PDBID in @biolip_ids) & (PDBID not in @pdbbind_ids) & (`Ligand CCD` not in @polymers) & (`Ligand CCD` not in @ions)')\n",
    "for pdbid, subdf in select_df.groupby('PDBID'):\n",
    "    select = True\n",
    "    for chain, subsubdf in subdf.groupby('Ligand chain'):\n",
    "        if subsubdf.shape[0] > 1:\n",
    "            select = False\n",
    "            break\n",
    "    if select:\n",
    "        select_pdbids.append(pdbid)\n",
    "print(len(select_pdbids))\n",
    "select_df.query('PDBID in @select_pdbids')[['PDBID', 'Ligand CCD', 'Ligand chain', 'Ligand residue sequence number']].to_csv('BioLiP_bind_sm.csv', index=None)"
   ]
  },
  {
   "cell_type": "code",
   "execution_count": 66,
   "metadata": {},
   "outputs": [
    {
     "name": "stderr",
     "output_type": "stream",
     "text": [
      "100%|██████████| 128638/128638 [00:03<00:00, 39919.64it/s]\n",
      "100%|██████████| 143054/143054 [00:03<00:00, 36685.81it/s]\n"
     ]
    }
   ],
   "source": [
    "columns_subset = [\n",
    "    'PDBID',\n",
    "    'Ligand chain',\n",
    "    'Ligand CCD',\n",
    "    'Ligand residue sequence number',\n",
    "    'Binding affinity (manual)',\n",
    "    'Binding affinity (Binding MOAD)',\n",
    "    'Binding affinity (PDBbind-CN)',\n",
    "    'Binding affinity (Binding DB)'\n",
    "]\n",
    "biolip_data_sm_dict = {pdbid: subdf for pdbid, subdf in tqdm(biolip_sm[columns_subset].groupby('PDBID'))}\n",
    "biolip_data_dict = {pdbid: subdf for pdbid, subdf in tqdm(raw_df[columns_subset].groupby('PDBID'))}\n",
    "pdbbind_data_dict = pdbbind_data.set_index('PDBID').to_dict('index')"
   ]
  },
  {
   "cell_type": "code",
   "execution_count": 72,
   "metadata": {},
   "outputs": [],
   "source": [
    "ions = [\n",
    "    'MN', 'MG', 'ZN', 'NA', 'CO', 'CA', 'CU', 'NI', 'FE', \n",
    "    'HG', 'CE', 'AG', 'CD', 'CL', 'BR', 'F', 'XE', 'KR', 'AR',\n",
    "    'K', 'LA', 'BA', 'SB', 'TL', 'CS', 'SR', 'AU', 'YB', 'GA', 'CR',\n",
    "    'PD', 'MO', 'SE', 'LU', 'SM', 'PB', 'EU', 'PT', 'TB', 'RH', 'LI',\n",
    "    'RB', 'RU', 'DY', 'RE', 'PR', 'OS', 'V', 'IR', 'ND', 'AL'\n",
    "    'O', 'OH'\n",
    "]\n",
    "binding_cols = ['Binding affinity (manual)', 'Binding affinity (Binding MOAD)', 'Binding affinity (PDBbind-CN)', 'Binding affinity (Binding DB)']\n",
    "\n",
    "data_sm = []\n",
    "data_poly = []\n",
    "for pdbid in pdbbind_data_dict:\n",
    "    ligand_ccd = pdbbind_data_dict[pdbid]['Ligand']\n",
    "    if not bool(re.search(r'[^a-zA-Z0-9]', ligand_ccd)):\n",
    "        if pdbid not in biolip_data_sm_dict:\n",
    "            data_sm.append({'PDBID': pdbid, 'Ligand CCD': ligand_ccd, 'Ligand chain': None, 'Ligand residue sequence number': None})\n",
    "        else:\n",
    "            found = []\n",
    "            for _, row in biolip_data_sm_dict[pdbid].iterrows():\n",
    "                if row['Ligand CCD'] == ligand_ccd:\n",
    "                    chain, resnum = row['Ligand chain'], row['Ligand residue sequence number']\n",
    "                    if (chain, resnum) in found:\n",
    "                        continue\n",
    "                    data_sm.append({'PDBID': pdbid, 'Ligand CCD': ligand_ccd, 'Ligand chain': chain, 'Ligand residue sequence number': resnum.strip()})\n",
    "                    found.append((chain, resnum))\n",
    "    else:\n",
    "        if pdbid not in biolip_data_dict:\n",
    "            data_poly.append({'PDBID': pdbid, 'Ligand CCD': ligand_ccd, 'Ligand chain': None, 'Ligand residue sequence number': None})\n",
    "        else:\n",
    "            for chain, subdf in biolip_data_dict[pdbid].groupby('Ligand chain'):\n",
    "                record = {'PDBID': pdbid, 'Ligand chain': chain, 'Ligand CCD': [], 'Ligand residue sequence number': []}\n",
    "                for _, row in subdf.iterrows():\n",
    "                    if row['Ligand CCD'] in ['peptide', 'dna', 'rna']:\n",
    "                        record.update({'Ligand CCD': row['Ligand CCD'], 'Ligand residue sequence number': row['Ligand residue sequence number']})\n",
    "                        break\n",
    "                    if row['Ligand CCD'] in ions:\n",
    "                        continue\n",
    "                    if all(str(row[col]) == 'nan' for col in binding_cols):\n",
    "                        continue\n",
    "                    record['Ligand CCD'].append(row['Ligand CCD'])\n",
    "                    record['Ligand residue sequence number'].append(row['Ligand residue sequence number'])\n",
    "                \n",
    "                if isinstance(record['Ligand CCD'], list):\n",
    "                    record['Ligand CCD'] = '-'.join(record['Ligand CCD'])\n",
    "                if isinstance(record['Ligand residue sequence number'], list):\n",
    "                    record['Ligand residue sequence number'] = '-'.join(record['Ligand residue sequence number'])\n",
    "                \n",
    "                record['Ligand residue sequence number'] = record['Ligand residue sequence number'].replace(' ', '')\n",
    "                record['Ligand residue sequence number'] = record['Ligand residue sequence number'].replace('~', '-')\n",
    "                data_poly.append(record)\n",
    "\n",
    "\n",
    "df_sm = pd.DataFrame(data_sm)\n",
    "df_sm = df_sm.sort_values(by=['PDBID', 'Ligand chain', 'Ligand residue sequence number'])\n",
    "df_sm.to_csv('PDBBind_sm.csv', index=None)\n",
    "\n",
    "df_poly = pd.DataFrame(data_poly)\n",
    "df_poly = df_poly.sort_values(by=['PDBID', 'Ligand chain', 'Ligand residue sequence number'])\n",
    "df_poly.to_csv('PDBBind_poly.csv', index=None)"
   ]
  },
  {
   "cell_type": "code",
   "execution_count": 70,
   "metadata": {},
   "outputs": [
    {
     "data": {
      "text/plain": [
       "False"
      ]
     },
     "execution_count": 70,
     "metadata": {},
     "output_type": "execute_result"
    }
   ],
   "source": [
    "isinstance(np.nan, str)"
   ]
  },
  {
   "cell_type": "code",
   "execution_count": null,
   "metadata": {},
   "outputs": [],
   "source": []
  }
 ],
 "metadata": {
  "kernelspec": {
   "display_name": "Python 3",
   "language": "python",
   "name": "python3"
  },
  "language_info": {
   "codemirror_mode": {
    "name": "ipython",
    "version": 3
   },
   "file_extension": ".py",
   "mimetype": "text/x-python",
   "name": "python",
   "nbconvert_exporter": "python",
   "pygments_lexer": "ipython3",
   "version": "3.10.14"
  }
 },
 "nbformat": 4,
 "nbformat_minor": 2
}
