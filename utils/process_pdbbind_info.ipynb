{
 "cells": [
  {
   "cell_type": "code",
   "execution_count": 1,
   "metadata": {},
   "outputs": [],
   "source": [
    "import os, re, csv, glob, subprocess, shutil, sys\n",
    "sys.path.append(\"/pscratch/sd/k/kysun/apo-holo-project/EvoStruct/utils/\")"
   ]
  },
  {
   "cell_type": "code",
   "execution_count": 2,
   "metadata": {},
   "outputs": [],
   "source": [
    "from extract_pdb_info import *\n",
    "from fix_protein import *"
   ]
  },
  {
   "cell_type": "markdown",
   "metadata": {},
   "source": [
    "## Create the csv file given a PDBBind Data Input\n",
    "\n",
    "Note: should be generalizable to the general set but only tried on the refined set"
   ]
  },
  {
   "cell_type": "code",
   "execution_count": 17,
   "metadata": {},
   "outputs": [
    {
     "name": "stdout",
     "output_type": "stream",
     "text": [
      "CSV file \"refined_data.csv\" created successfully.\n"
     ]
    }
   ],
   "source": [
    "def parse_and_write_to_csv(fp, output_csv):\n",
    "    \n",
    "    with open(fp, 'r') as f:\n",
    "        text = f.read()\n",
    "        \n",
    "    # Regular expression to match the data lines\n",
    "    data_pattern = re.compile(r'(\\w+)\\s+([\\d.]+)\\s+(\\d+)\\s+([\\d.]+)\\s+([a-zA-Z]+)([<>=]+)([\\d.]+)([npfmuM]+)\\s+//\\s+\\S+\\s+\\(([\\w\\-\\&\\+\\/]+)\\)')\n",
    "\n",
    "    # Open the CSV file for writing\n",
    "    with open(output_csv, 'w', newline='') as csvfile:\n",
    "        csvwriter = csv.writer(csvfile)\n",
    "        \n",
    "        # Write the header\n",
    "        csvwriter.writerow(['PDB Code', 'Resolution', 'Release Year', '-logKd/Ki', 'Kd/Ki', 'Sign', 'Kd/Ki Value', 'Kd/Ki Unit', 'Ligand Name'])\n",
    "        \n",
    "        # Find all matches and write to CSV\n",
    "        for match in data_pattern.findall(text):\n",
    "            pdb_code, resolution, release_year, logKd_Ki, kd_ki, sign, kd_ki_value, kd_ki_unit, ligand_name = match\n",
    "            csvwriter.writerow([pdb_code, resolution, release_year, logKd_Ki, kd_ki, sign, kd_ki_value, kd_ki_unit, ligand_name])\n",
    "\n",
    "\n",
    "# Call the function\n",
    "fp = \"/pscratch/sd/k/kysun/apo-holo-project/data_curation/PDBBind_2020/index/INDEX_refined_data.2020\"\n",
    "output_csv = \"refined_data.csv\"\n",
    "parse_and_write_to_csv(fp, output_csv)\n",
    "\n",
    "\n",
    "print(f'CSV file \"{output_csv}\" created successfully.')"
   ]
  },
  {
   "cell_type": "code",
   "execution_count": 29,
   "metadata": {},
   "outputs": [
    {
     "name": "stdout",
     "output_type": "stream",
     "text": [
      "# ==============================================================================\n",
      "# List of the protein-ligand complexes in the PDBbind refined set v.2020\n",
      "# 5316 protein-ligand complexes in total, which are ranked by binding data\n",
      "# Latest update: July 2021\n",
      "# PDB code, resolution, release year, -logKd/Ki, Kd/Ki, reference, ligand name\n",
      "# ==============================================================================\n"
     ]
    }
   ],
   "source": [
    "# simple check to make sure there's no missing data\n",
    "import pandas as pd\n",
    "refined_data = pd.read_csv('refined_data.csv')\n",
    "pdb_codes = list(refined_data['PDB code'].values)\n",
    "\n",
    "with open(fp, \"r\") as f:\n",
    "    lines = f.read().splitlines()\n",
    "\n",
    "for line in lines:\n",
    "    if line[:4] not in pdb_codes:\n",
    "        print(line) "
   ]
  },
  {
   "cell_type": "markdown",
   "metadata": {},
   "source": [
    "## Download the original PDB File and separate files based on different ligands of interest\n",
    "\n",
    "Note: \n",
    "1. one ligand for each subdirectory under the protein folder\n",
    "2. include all of the chains from a certain distance cutoff with the ligand\n",
    "3. for the protein chains that are included, include all the HETATM molecules within a certain cutoff of the distance to capture interfacial water\n",
    "4. in each protein file, the remark should contain seqres; fixed residues; mutated residues; fixed atoms; ss bond record\n",
    "5. in the metadata, identify using the normal uniprot sequence of their references if they have any\n",
    "6. a final step of sanity check - compare the sequence to the actual uniprot sequence [extracted]\n",
    "\n",
    "** pdb code  \n",
    "** protein.pdb [downloaded from rcsb] \n",
    "** protein.cif [downloaded from rcsb]  \n",
    "** {pdbid}\\_{ligid}\\_{chain}_rcsb.pdb [extracted from the rcsb file with necessary fields]  \n",
    "** {pdbid}\\_{ligid}\\_{chain}_protein.pdb [fixed protein file with fixing information in the file header]  \n",
    "** {pdbid}\\_{ligid}\\_{chain}_hetatm.pdb [heteroatoms that are near the included chains]   \n",
    "\n",
    "Default: keep every heteroatoms that are around including crystal artifacts + skip N/C terminal when fixing"
   ]
  },
  {
   "cell_type": "markdown",
   "metadata": {},
   "source": [
    "## To Eric\n",
    "\n",
    "1. The dataframe needs to contain a pdbid and its ligandid. I used the above code to generate the csv but feel free to change the code to adapt for nonstandard ligand names. Some of the cases that needs additional attentions are: a. expired pdb code; b. expired ligand code. c. ligand code means a polymer/polysaccharides, d. ...\n",
    "\n",
    "2. Alignment Data and Difference Data are all about the chains that we used - these can be stored separatedly as a metadata. Should we include PDBFixer info in this metadata as well? Currently they are only in the PDB files."
   ]
  },
  {
   "cell_type": "code",
   "execution_count": null,
   "metadata": {},
   "outputs": [],
   "source": [
    "import pandas as pd\n",
    "refined_data = pd.read_csv('refined_data.csv')\n",
    "\n",
    "# taken from the example in the py file\n",
    "refined_data_fp = \"/pscratch/sd/k/kysun/apo-holo-project/EvoStruct/utils/refined_data.csv\"\n",
    "total_alignment_df, total_differences_df, failed_pdbs = batch_process_wf(refined_data_fp)\n",
    "total_alignment_df.to_csv(\"/pscratch/sd/k/kysun/apo-holo-project/EvoStruct/utils/alignment_data.csv\", index=False)\n",
    "total_differences_df.to_csv(\"/pscratch/sd/k/kysun/apo-holo-project/EvoStruct/utils/differences_data.csv\", index=False)\n",
    "with open(\"/pscratch/sd/k/kysun/apo-holo-project/EvoStruct/utils/failed_pdbs.pkl\", \"wb\") as f:\n",
    "    pickle.dump(failed_pdbs, f)"
   ]
  },
  {
   "cell_type": "code",
   "execution_count": 20,
   "metadata": {},
   "outputs": [],
   "source": [
    "import pickle\n",
    "failed_pdbs = pickle.load(open('failed_pdbs.pkl', 'rb'))"
   ]
  },
  {
   "cell_type": "code",
   "execution_count": 21,
   "metadata": {},
   "outputs": [
    {
     "data": {
      "text/plain": [
       "['6ghj', '5oxk']"
      ]
     },
     "execution_count": 21,
     "metadata": {},
     "output_type": "execute_result"
    }
   ],
   "source": [
    "failed_pdbs"
   ]
  },
  {
   "cell_type": "code",
   "execution_count": null,
   "metadata": {},
   "outputs": [],
   "source": []
  }
 ],
 "metadata": {
  "kernelspec": {
   "display_name": "Python 3",
   "language": "python",
   "name": "python3"
  },
  "language_info": {
   "codemirror_mode": {
    "name": "ipython",
    "version": 3
   },
   "file_extension": ".py",
   "mimetype": "text/x-python",
   "name": "python",
   "nbconvert_exporter": "python",
   "pygments_lexer": "ipython3",
   "version": "3.10.13"
  }
 },
 "nbformat": 4,
 "nbformat_minor": 2
}
